{
  "nbformat": 4,
  "nbformat_minor": 0,
  "metadata": {
    "colab": {
      "name": "Pandas.ipynb",
      "provenance": [],
      "authorship_tag": "ABX9TyPBiGddy9aGjf+Qavh/tpA/",
      "include_colab_link": true
    },
    "kernelspec": {
      "name": "python3",
      "display_name": "Python 3"
    }
  },
  "cells": [
    {
      "cell_type": "markdown",
      "metadata": {
        "id": "view-in-github",
        "colab_type": "text"
      },
      "source": [
        "<a href=\"https://colab.research.google.com/github/Adejayan/hello-world/blob/master/Pandas.ipynb\" target=\"_parent\"><img src=\"https://colab.research.google.com/assets/colab-badge.svg\" alt=\"Open In Colab\"/></a>"
      ]
    },
    {
      "cell_type": "code",
      "metadata": {
        "id": "uizmyIVDFHWP",
        "colab_type": "code",
        "colab": {
          "base_uri": "https://localhost:8080/",
          "height": 90
        },
        "outputId": "839e93ba-9221-48be-fb12-5d992a85be49"
      },
      "source": [
        "# convention for importing numpy\n",
        "import pandas as pd\n",
        "\n",
        "days = pd.Series(['Monday', 'Tuesday', 'Wednesday'])\n",
        "print(days) # prints"
      ],
      "execution_count": 1,
      "outputs": [
        {
          "output_type": "stream",
          "text": [
            "0       Monday\n",
            "1      Tuesday\n",
            "2    Wednesday\n",
            "dtype: object\n"
          ],
          "name": "stdout"
        }
      ]
    },
    {
      "cell_type": "code",
      "metadata": {
        "id": "pxXQfbikTzs7",
        "colab_type": "code",
        "colab": {
          "base_uri": "https://localhost:8080/",
          "height": 90
        },
        "outputId": "5dd0a890-f366-46cb-f739-88e5a85a08cd"
      },
      "source": [
        "# creating series with a numpy array\n",
        "days_list = pd.array(['Monday', 'Tuesday', 'Wednesday'])\n",
        "\n",
        "numpy_days = pd.Series(days_list)\n",
        "print(numpy_days) # prints"
      ],
      "execution_count": 9,
      "outputs": [
        {
          "output_type": "stream",
          "text": [
            "0       Monday\n",
            "1      Tuesday\n",
            "2    Wednesday\n",
            "dtype: string\n"
          ],
          "name": "stdout"
        }
      ]
    },
    {
      "cell_type": "code",
      "metadata": {
        "id": "DZR1nGF6UfZ8",
        "colab_type": "code",
        "colab": {
          "base_uri": "https://localhost:8080/",
          "height": 90
        },
        "outputId": "471ab1fb-db82-47ab-a192-3feb7c4a76cf"
      },
      "source": [
        "# using strings as index\n",
        "days = pd.Series(['Monday', 'Tuesday', 'Wednesday'], index = ['a', 'b', 'c'])\n",
        "\n",
        "print(days) # prints"
      ],
      "execution_count": 15,
      "outputs": [
        {
          "output_type": "stream",
          "text": [
            "a       Monday\n",
            "b      Tuesday\n",
            "c    Wednesday\n",
            "dtype: object\n"
          ],
          "name": "stdout"
        }
      ]
    },
    {
      "cell_type": "markdown",
      "metadata": {
        "id": "OzgyfQW_VdpH",
        "colab_type": "text"
      },
      "source": [
        "**Accessing Series using Specified Index**"
      ]
    },
    {
      "cell_type": "code",
      "metadata": {
        "id": "EX27WWy5WL7B",
        "colab_type": "code",
        "colab": {
          "base_uri": "https://localhost:8080/",
          "height": 163
        },
        "outputId": "d2ab054f-208d-4131-bb6f-e0b9318270d5"
      },
      "source": [
        "days = pd.Series(['Monday', 'Tuesday', 'Wednesday'])\n",
        "print(days) # prints\n",
        "\n",
        "print(days[0])\n",
        "print(days[1:])\n",
        " "
      ],
      "execution_count": 23,
      "outputs": [
        {
          "output_type": "stream",
          "text": [
            "0       Monday\n",
            "1      Tuesday\n",
            "2    Wednesday\n",
            "dtype: object\n",
            "Monday\n",
            "1      Tuesday\n",
            "2    Wednesday\n",
            "dtype: object\n"
          ],
          "name": "stdout"
        }
      ]
    },
    {
      "cell_type": "markdown",
      "metadata": {
        "id": "fLrNAh5vYBcT",
        "colab_type": "text"
      },
      "source": [
        "**DataFrame**"
      ]
    },
    {
      "cell_type": "code",
      "metadata": {
        "id": "v-zKMCH3YGDB",
        "colab_type": "code",
        "colab": {
          "base_uri": "https://localhost:8080/",
          "height": 72
        },
        "outputId": "71c59a81-c070-4b0d-e7b1-b8189bd8d5be"
      },
      "source": [
        "print(pd.DataFrame())\n",
        "# prints an empty dataframe"
      ],
      "execution_count": 24,
      "outputs": [
        {
          "output_type": "stream",
          "text": [
            "Empty DataFrame\n",
            "Columns: []\n",
            "Index: []\n"
          ],
          "name": "stdout"
        }
      ]
    },
    {
      "cell_type": "code",
      "metadata": {
        "id": "wYFiEB63YVUh",
        "colab_type": "code",
        "colab": {
          "base_uri": "https://localhost:8080/",
          "height": 199
        },
        "outputId": "8f03630d-0707-4f75-b3aa-f1cb1b4c1a21"
      },
      "source": [
        "# create a dataframe from a dictionary\n",
        "df_dict = {'Country': ['Ghana', 'Kenya', 'Nigeria', 'Togo'], 'Capital': ['Accra', 'Nairobi', 'Abuja', 'Lome'], 'Population': [10000, 8500, 35000, 12000], 'Age': [60, 70, 80, 75]}\n",
        "\n",
        "df = pd.DataFrame(df_dict, index=[2, 4, 6, 8])\n",
        "print(df)\n",
        "\n",
        "df_list = {'Country', 'Capital', 'Population', 'Age'}\n",
        "df1 = pd.DataFrame(df_list, index = [2, 4, 6, 8])\n",
        "print(df1)\n"
      ],
      "execution_count": 35,
      "outputs": [
        {
          "output_type": "stream",
          "text": [
            "   Country  Capital  Population  Age\n",
            "2    Ghana    Accra       10000   60\n",
            "4    Kenya  Nairobi        8500   70\n",
            "6  Nigeria    Abuja       35000   80\n",
            "8     Togo     Lome       12000   75\n",
            "            0\n",
            "2  Population\n",
            "4         Age\n",
            "6     Country\n",
            "8     Capital\n"
          ],
          "name": "stdout"
        }
      ]
    },
    {
      "cell_type": "markdown",
      "metadata": {
        "id": "cuQeLz9lchmW",
        "colab_type": "text"
      },
      "source": [
        "_Accessors in Pandas_"
      ]
    },
    {
      "cell_type": "code",
      "metadata": {
        "id": "tXPyjTTScJT-",
        "colab_type": "code",
        "colab": {
          "base_uri": "https://localhost:8080/",
          "height": 108
        },
        "outputId": "9c1411ff-03d4-429a-c986-327f39a953dd"
      },
      "source": [
        "# select the row in the at index 3\n",
        "df.iloc[3]\n",
        "print(df.iloc[3])"
      ],
      "execution_count": 37,
      "outputs": [
        {
          "output_type": "stream",
          "text": [
            "Country        Togo\n",
            "Capital        Lome\n",
            "Population    12000\n",
            "Age              75\n",
            "Name: 8, dtype: object\n"
          ],
          "name": "stdout"
        }
      ]
    },
    {
      "cell_type": "code",
      "metadata": {
        "id": "1rnplmdGcmvj",
        "colab_type": "code",
        "colab": {
          "base_uri": "https://localhost:8080/",
          "height": 108
        },
        "outputId": "139e4b02-02a2-4244-99b6-0920b95524e1"
      },
      "source": [
        "# select row with index label 6\n",
        "df.loc[6]\n",
        "print(df.loc[6])"
      ],
      "execution_count": 38,
      "outputs": [
        {
          "output_type": "stream",
          "text": [
            "Country       Nigeria\n",
            "Capital         Abuja\n",
            "Population      35000\n",
            "Age                80\n",
            "Name: 6, dtype: object\n"
          ],
          "name": "stdout"
        }
      ]
    },
    {
      "cell_type": "code",
      "metadata": {
        "id": "uY94xIEFdZbi",
        "colab_type": "code",
        "colab": {
          "base_uri": "https://localhost:8080/",
          "height": 108
        },
        "outputId": "23501cef-9f66-44ec-cf61-73e8253c4f0c"
      },
      "source": [
        "# select the Capital column\n",
        "df['Capital']\n",
        "print(df['Capital'])"
      ],
      "execution_count": 39,
      "outputs": [
        {
          "output_type": "stream",
          "text": [
            "2      Accra\n",
            "4    Nairobi\n",
            "6      Abuja\n",
            "8       Lome\n",
            "Name: Capital, dtype: object\n"
          ],
          "name": "stdout"
        }
      ]
    },
    {
      "cell_type": "code",
      "metadata": {
        "id": "rO0uUND3doW2",
        "colab_type": "code",
        "colab": {
          "base_uri": "https://localhost:8080/",
          "height": 35
        },
        "outputId": "5555943e-2c7e-4271-ac57-2fc64536c896"
      },
      "source": [
        "df.at[6, 'Country']\n",
        "print(df.at[6, 'Country'])"
      ],
      "execution_count": 40,
      "outputs": [
        {
          "output_type": "stream",
          "text": [
            "Nigeria\n"
          ],
          "name": "stdout"
        }
      ]
    },
    {
      "cell_type": "code",
      "metadata": {
        "id": "oVEVgbcsd_ty",
        "colab_type": "code",
        "colab": {
          "base_uri": "https://localhost:8080/",
          "height": 35
        },
        "outputId": "1dfb3aaf-0c1c-47b5-9b30-202a88874827"
      },
      "source": [
        "df.iat[2, 0]\n",
        "print(df.iat[2,0])"
      ],
      "execution_count": 41,
      "outputs": [
        {
          "output_type": "stream",
          "text": [
            "Nigeria\n"
          ],
          "name": "stdout"
        }
      ]
    },
    {
      "cell_type": "code",
      "metadata": {
        "id": "bKNOP9qDeOMQ",
        "colab_type": "code",
        "colab": {
          "base_uri": "https://localhost:8080/",
          "height": 108
        },
        "outputId": "ec1a1de7-86f4-4f69-f544-26e9d67c6770"
      },
      "source": [
        "# select the row in the at index 3\n",
        "df.iloc[3]\n",
        "print(df.iloc[3])"
      ],
      "execution_count": 43,
      "outputs": [
        {
          "output_type": "stream",
          "text": [
            "Country        Togo\n",
            "Capital        Lome\n",
            "Population    12000\n",
            "Age              75\n",
            "Name: 8, dtype: object\n"
          ],
          "name": "stdout"
        }
      ]
    },
    {
      "cell_type": "code",
      "metadata": {
        "id": "Vb1rN6kfef6E",
        "colab_type": "code",
        "colab": {
          "base_uri": "https://localhost:8080/",
          "height": 108
        },
        "outputId": "7d35c828-dfa3-45b1-af62-6ccf50f74fec"
      },
      "source": [
        "# select the row with index label 6\n",
        "df.loc[6]\n",
        "print(df.loc[6])"
      ],
      "execution_count": 44,
      "outputs": [
        {
          "output_type": "stream",
          "text": [
            "Country       Nigeria\n",
            "Capital         Abuja\n",
            "Population      35000\n",
            "Age                80\n",
            "Name: 6, dtype: object\n"
          ],
          "name": "stdout"
        }
      ]
    },
    {
      "cell_type": "code",
      "metadata": {
        "id": "PYS94QUSet8B",
        "colab_type": "code",
        "colab": {
          "base_uri": "https://localhost:8080/",
          "height": 108
        },
        "outputId": "0bb8b462-e7bd-4fe3-959b-559042987801"
      },
      "source": [
        "# select the Capital column\n",
        "df['Capital'] \n",
        "print(df['Capital'])"
      ],
      "execution_count": 45,
      "outputs": [
        {
          "output_type": "stream",
          "text": [
            "2      Accra\n",
            "4    Nairobi\n",
            "6      Abuja\n",
            "8       Lome\n",
            "Name: Capital, dtype: object\n"
          ],
          "name": "stdout"
        }
      ]
    },
    {
      "cell_type": "code",
      "metadata": {
        "id": "3PnAXyCOe8yz",
        "colab_type": "code",
        "colab": {
          "base_uri": "https://localhost:8080/",
          "height": 35
        },
        "outputId": "167a30e7-4644-4333-db10-4c462e813822"
      },
      "source": [
        "df.at[6, 'Country']\n",
        "print(df.at[6, 'Country'])"
      ],
      "execution_count": 46,
      "outputs": [
        {
          "output_type": "stream",
          "text": [
            "Nigeria\n"
          ],
          "name": "stdout"
        }
      ]
    },
    {
      "cell_type": "code",
      "metadata": {
        "id": "tK7rghalfKPY",
        "colab_type": "code",
        "colab": {
          "base_uri": "https://localhost:8080/",
          "height": 35
        },
        "outputId": "eb8811b6-a4f5-4a0c-c590-3bc4deeb03a1"
      },
      "source": [
        "df.iat[2, 0]\n",
        "print(df.iat[2, 0])"
      ],
      "execution_count": 47,
      "outputs": [
        {
          "output_type": "stream",
          "text": [
            "Nigeria\n"
          ],
          "name": "stdout"
        }
      ]
    },
    {
      "cell_type": "markdown",
      "metadata": {
        "id": "bqf3yjfmkDhY",
        "colab_type": "text"
      },
      "source": [
        "_Descriptive Statistics_"
      ]
    },
    {
      "cell_type": "code",
      "metadata": {
        "id": "QdIXZ0xKj1xs",
        "colab_type": "code",
        "colab": {
          "base_uri": "https://localhost:8080/",
          "height": 35
        },
        "outputId": "65f8d09d-6f5d-423f-d2f3-a354e1bfb4db"
      },
      "source": [
        "df['Population'].sum()\n",
        "print(df['Population'].sum())"
      ],
      "execution_count": 48,
      "outputs": [
        {
          "output_type": "stream",
          "text": [
            "65500\n"
          ],
          "name": "stdout"
        }
      ]
    },
    {
      "cell_type": "code",
      "metadata": {
        "id": "k7Hog1V8kU2z",
        "colab_type": "code",
        "colab": {
          "base_uri": "https://localhost:8080/",
          "height": 181
        },
        "outputId": "e0f3392f-bce4-4798-9007-03b58ad5487d"
      },
      "source": [
        "df.describe()\n",
        "print(df.describe())"
      ],
      "execution_count": 49,
      "outputs": [
        {
          "output_type": "stream",
          "text": [
            "         Population        Age\n",
            "count      4.000000   4.000000\n",
            "mean   16375.000000  71.250000\n",
            "std    12499.166639   8.539126\n",
            "min     8500.000000  60.000000\n",
            "25%     9625.000000  67.500000\n",
            "50%    11000.000000  72.500000\n",
            "75%    17750.000000  76.250000\n",
            "max    35000.000000  80.000000\n"
          ],
          "name": "stdout"
        }
      ]
    },
    {
      "cell_type": "markdown",
      "metadata": {
        "id": "or6I-B0ulh04",
        "colab_type": "text"
      },
      "source": [
        "_The Missing Enigma_"
      ]
    },
    {
      "cell_type": "code",
      "metadata": {
        "id": "gjFU2JQcke4-",
        "colab_type": "code",
        "colab": {
          "base_uri": "https://localhost:8080/",
          "height": 244
        },
        "outputId": "8f77fca4-39e4-4ce4-e8c8-20d3d60fcee2"
      },
      "source": [
        "df_dict2 = {'Name': ['James', 'Yemen', 'Caro', np.nan], \n",
        "            'Profession': ['Researcher', 'Artist', 'Doctor', 'Writer'],\n",
        "            'Experience': [12, np.nan, 10, 8], \n",
        "            'Height': [pd.nan, 175, 180, 150]}\n",
        "\n",
        "new_df = pd.DataFrame(df_dict2)\n",
        "print(df_dict2)"
      ],
      "execution_count": 59,
      "outputs": [
        {
          "output_type": "error",
          "ename": "NameError",
          "evalue": "ignored",
          "traceback": [
            "\u001b[0;31m---------------------------------------------------------------------------\u001b[0m",
            "\u001b[0;31mNameError\u001b[0m                                 Traceback (most recent call last)",
            "\u001b[0;32m<ipython-input-59-5d53d59fbfdd>\u001b[0m in \u001b[0;36m<module>\u001b[0;34m()\u001b[0m\n\u001b[0;32m----> 1\u001b[0;31m df_dict2 = {'Name': ['James', 'Yemen', 'Caro', np.nan], \n\u001b[0m\u001b[1;32m      2\u001b[0m             \u001b[0;34m'Profession'\u001b[0m\u001b[0;34m:\u001b[0m \u001b[0;34m[\u001b[0m\u001b[0;34m'Researcher'\u001b[0m\u001b[0;34m,\u001b[0m \u001b[0;34m'Artist'\u001b[0m\u001b[0;34m,\u001b[0m \u001b[0;34m'Doctor'\u001b[0m\u001b[0;34m,\u001b[0m \u001b[0;34m'Writer'\u001b[0m\u001b[0;34m]\u001b[0m\u001b[0;34m,\u001b[0m\u001b[0;34m\u001b[0m\u001b[0;34m\u001b[0m\u001b[0m\n\u001b[1;32m      3\u001b[0m             \u001b[0;34m'Experience'\u001b[0m\u001b[0;34m:\u001b[0m \u001b[0;34m[\u001b[0m\u001b[0;36m12\u001b[0m\u001b[0;34m,\u001b[0m \u001b[0mnp\u001b[0m\u001b[0;34m.\u001b[0m\u001b[0mnan\u001b[0m\u001b[0;34m,\u001b[0m \u001b[0;36m10\u001b[0m\u001b[0;34m,\u001b[0m \u001b[0;36m8\u001b[0m\u001b[0;34m]\u001b[0m\u001b[0;34m,\u001b[0m\u001b[0;34m\u001b[0m\u001b[0;34m\u001b[0m\u001b[0m\n\u001b[1;32m      4\u001b[0m             'Height': [pd.nan, 175, 180, 150]}\n\u001b[1;32m      5\u001b[0m \u001b[0;34m\u001b[0m\u001b[0m\n",
            "\u001b[0;31mNameError\u001b[0m: name 'np' is not defined"
          ]
        }
      ]
    },
    {
      "cell_type": "code",
      "metadata": {
        "id": "3JNRbnsmn8-R",
        "colab_type": "code",
        "colab": {
          "base_uri": "https://localhost:8080/",
          "height": 207
        },
        "outputId": "dfab0f8d-6211-479b-cc9e-519263497dbc"
      },
      "source": [
        "# remove rows with missing values\n",
        "new_df.dropna()\n",
        "print(new_df.dropna())"
      ],
      "execution_count": 61,
      "outputs": [
        {
          "output_type": "error",
          "ename": "NameError",
          "evalue": "ignored",
          "traceback": [
            "\u001b[0;31m---------------------------------------------------------------------------\u001b[0m",
            "\u001b[0;31mNameError\u001b[0m                                 Traceback (most recent call last)",
            "\u001b[0;32m<ipython-input-61-92cdccd40fd4>\u001b[0m in \u001b[0;36m<module>\u001b[0;34m()\u001b[0m\n\u001b[1;32m      1\u001b[0m \u001b[0;31m# remove rows with missing values\u001b[0m\u001b[0;34m\u001b[0m\u001b[0;34m\u001b[0m\u001b[0;34m\u001b[0m\u001b[0m\n\u001b[0;32m----> 2\u001b[0;31m \u001b[0mnew_df\u001b[0m\u001b[0;34m.\u001b[0m\u001b[0mdropna\u001b[0m\u001b[0;34m(\u001b[0m\u001b[0;34m)\u001b[0m\u001b[0;34m\u001b[0m\u001b[0;34m\u001b[0m\u001b[0m\n\u001b[0m\u001b[1;32m      3\u001b[0m \u001b[0mprint\u001b[0m\u001b[0;34m(\u001b[0m\u001b[0mnew_df\u001b[0m\u001b[0;34m.\u001b[0m\u001b[0mdropna\u001b[0m\u001b[0;34m(\u001b[0m\u001b[0;34m)\u001b[0m\u001b[0;34m)\u001b[0m\u001b[0;34m\u001b[0m\u001b[0;34m\u001b[0m\u001b[0m\n",
            "\u001b[0;31mNameError\u001b[0m: name 'new_df' is not defined"
          ]
        }
      ]
    }
  ]
}